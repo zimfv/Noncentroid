{
 "cells": [
  {
   "cell_type": "code",
   "execution_count": 1,
   "id": "72724578",
   "metadata": {},
   "outputs": [],
   "source": [
    "import numpy as np\n",
    "import time\n",
    "\n",
    "import itertools"
   ]
  },
  {
   "cell_type": "markdown",
   "id": "e752d50c",
   "metadata": {},
   "source": [
    "# Generate test data"
   ]
  },
  {
   "cell_type": "code",
   "execution_count": 2,
   "id": "48fedff2",
   "metadata": {},
   "outputs": [
    {
     "data": {
      "text/plain": [
       "array([[0, 0, 1],\n",
       "       [0, 1, 0],\n",
       "       [1, 0, 0],\n",
       "       [1, 0, 0],\n",
       "       [0, 1, 0],\n",
       "       [1, 0, 0],\n",
       "       [0, 1, 0],\n",
       "       [0, 1, 0],\n",
       "       [1, 0, 0],\n",
       "       [0, 0, 1],\n",
       "       [1, 0, 0],\n",
       "       [0, 1, 0]])"
      ]
     },
     "execution_count": 2,
     "metadata": {},
     "output_type": "execute_result"
    }
   ],
   "source": [
    "n = 3\n",
    "N = 12\n",
    "v = np.random.randint(n, size=N)\n",
    "m = np.zeros((N, n), dtype=int)\n",
    "m[np.arange(N), v] = 1\n",
    "m"
   ]
  },
  {
   "cell_type": "code",
   "execution_count": 3,
   "id": "76a5e5d5",
   "metadata": {},
   "outputs": [],
   "source": [
    "x0 = (n-1)*np.random.random(size=N)\n",
    "f = lambda m: ((np.argmax(m, axis=1) - x0)**2).sum()"
   ]
  },
  {
   "cell_type": "code",
   "execution_count": 4,
   "id": "75ee1a4f",
   "metadata": {
    "scrolled": true
   },
   "outputs": [
    {
     "name": "stdout",
     "output_type": "stream",
     "text": [
      "x0 = (1.5902 0.445  0.6133 1.6334 1.4663 1.5027 0.4165 1.4558 1.9105 1.545\n",
      " 1.2958 0.6741)\n",
      "\n",
      "Minimal value is  1.904511 for x = (2, 0, 1, 2, 1, 2, 0, 1, 2, 2, 1, 1)\n",
      "\n",
      "All calculated in   4.85943460 seconds.\n"
     ]
    }
   ],
   "source": [
    "calc_time = time.time()\n",
    "\n",
    "print('x0 = (' + str(np.round(x0, 4))[1:-1] + ')\\n')\n",
    "min_val = f(m)\n",
    "\n",
    "s = ''\n",
    "for i in itertools.product(np.arange(n), repeat=N):\n",
    "    mi = np.zeros((N, n), dtype=int)\n",
    "    mi[np.arange(N), i] = 1\n",
    "    if f(mi) < min_val:\n",
    "        min_val = f(mi)\n",
    "        min_m = i\n",
    "\n",
    "calc_time = time.time() - calc_time\n",
    "        \n",
    "print('Minimal value is {0:9.6f} for x = {1}\\n'.format(min_val, min_m))\n",
    "print('All calculated in {0:12.8f} seconds.'.format(calc_time))"
   ]
  },
  {
   "cell_type": "markdown",
   "id": "11df0349",
   "metadata": {},
   "source": [
    "# Test opt"
   ]
  },
  {
   "cell_type": "code",
   "execution_count": 5,
   "id": "e5f14271",
   "metadata": {},
   "outputs": [],
   "source": [
    "from package.opt import MinimizeByLabels"
   ]
  },
  {
   "cell_type": "code",
   "execution_count": 6,
   "id": "3c46abd3",
   "metadata": {
    "scrolled": false
   },
   "outputs": [
    {
     "name": "stdout",
     "output_type": "stream",
     "text": [
      "    f: <function <lambda> at 0x7f752c0ce560>\n",
      "value: 8.544367021654175\n",
      "    m: [[0 0 1]\n",
      "        [0 1 0]\n",
      "        [1 0 0]\n",
      "        [1 0 0]\n",
      "        [0 1 0]\n",
      "        [1 0 0]\n",
      "        [0 1 0]\n",
      "        [0 1 0]\n",
      "        [0 0 1]\n",
      "        [0 0 1]\n",
      "        [1 0 0]\n",
      "        [0 1 0]]\n",
      "iters: 1/100\n",
      "ended: False\n",
      "Iter time is   0.00106788 seconds.\n",
      "Full time is   0.00107121 seconds.\n",
      "\n",
      "    f: <function <lambda> at 0x7f752c0ce560>\n",
      "value: 6.010607941577437\n",
      "    m: [[0 0 1]\n",
      "        [0 1 0]\n",
      "        [1 0 0]\n",
      "        [0 0 1]\n",
      "        [0 1 0]\n",
      "        [1 0 0]\n",
      "        [0 1 0]\n",
      "        [0 1 0]\n",
      "        [0 0 1]\n",
      "        [0 0 1]\n",
      "        [1 0 0]\n",
      "        [0 1 0]]\n",
      "iters: 2/100\n",
      "ended: False\n",
      "Iter time is   0.00042033 seconds.\n",
      "Full time is   0.00180173 seconds.\n",
      "\n",
      "    f: <function <lambda> at 0x7f752c0ce560>\n",
      "value: 3.999784374233803\n",
      "    m: [[0 0 1]\n",
      "        [0 1 0]\n",
      "        [1 0 0]\n",
      "        [0 0 1]\n",
      "        [0 1 0]\n",
      "        [0 0 1]\n",
      "        [0 1 0]\n",
      "        [0 1 0]\n",
      "        [0 0 1]\n",
      "        [0 0 1]\n",
      "        [1 0 0]\n",
      "        [0 1 0]]\n",
      "iters: 3/100\n",
      "ended: False\n",
      "Iter time is   0.00026250 seconds.\n",
      "Full time is   0.00297594 seconds.\n",
      "\n",
      "    f: <function <lambda> at 0x7f752c0ce560>\n",
      "value: 2.408158827005107\n",
      "    m: [[0 0 1]\n",
      "        [0 1 0]\n",
      "        [1 0 0]\n",
      "        [0 0 1]\n",
      "        [0 1 0]\n",
      "        [0 0 1]\n",
      "        [0 1 0]\n",
      "        [0 1 0]\n",
      "        [0 0 1]\n",
      "        [0 0 1]\n",
      "        [0 1 0]\n",
      "        [0 1 0]]\n",
      "iters: 4/100\n",
      "ended: False\n",
      "Iter time is   0.00054955 seconds.\n",
      "Full time is   0.00370097 seconds.\n",
      "\n",
      "    f: <function <lambda> at 0x7f752c0ce560>\n",
      "value: 2.1815707967795817\n",
      "    m: [[0 0 1]\n",
      "        [0 1 0]\n",
      "        [0 1 0]\n",
      "        [0 0 1]\n",
      "        [0 1 0]\n",
      "        [0 0 1]\n",
      "        [0 1 0]\n",
      "        [0 1 0]\n",
      "        [0 0 1]\n",
      "        [0 0 1]\n",
      "        [0 1 0]\n",
      "        [0 1 0]]\n",
      "iters: 5/100\n",
      "ended: False\n",
      "Iter time is   0.00058103 seconds.\n",
      "Full time is   0.00443053 seconds.\n",
      "\n",
      "    f: <function <lambda> at 0x7f752c0ce560>\n",
      "value: 2.014497403236599\n",
      "    m: [[0 0 1]\n",
      "        [0 1 0]\n",
      "        [0 1 0]\n",
      "        [0 0 1]\n",
      "        [0 1 0]\n",
      "        [0 0 1]\n",
      "        [1 0 0]\n",
      "        [0 1 0]\n",
      "        [0 0 1]\n",
      "        [0 0 1]\n",
      "        [0 1 0]\n",
      "        [0 1 0]]\n",
      "iters: 6/100\n",
      "ended: False\n",
      "Iter time is   0.00049758 seconds.\n",
      "Full time is   0.00506353 seconds.\n",
      "\n",
      "    f: <function <lambda> at 0x7f752c0ce560>\n",
      "value: 1.904510910128264\n",
      "    m: [[0 0 1]\n",
      "        [1 0 0]\n",
      "        [0 1 0]\n",
      "        [0 0 1]\n",
      "        [0 1 0]\n",
      "        [0 0 1]\n",
      "        [1 0 0]\n",
      "        [0 1 0]\n",
      "        [0 0 1]\n",
      "        [0 0 1]\n",
      "        [0 1 0]\n",
      "        [0 1 0]]\n",
      "iters: 7/100\n",
      "ended: False\n",
      "Iter time is   0.00059628 seconds.\n",
      "Full time is   0.00580239 seconds.\n",
      "\n",
      "    f: <function <lambda> at 0x7f752c0ce560>\n",
      "value: 1.904510910128264\n",
      "    m: [[0 0 1]\n",
      "        [1 0 0]\n",
      "        [0 1 0]\n",
      "        [0 0 1]\n",
      "        [0 1 0]\n",
      "        [0 0 1]\n",
      "        [1 0 0]\n",
      "        [0 1 0]\n",
      "        [0 0 1]\n",
      "        [0 0 1]\n",
      "        [0 1 0]\n",
      "        [0 1 0]]\n",
      "iters: 8/100\n",
      "ended: True\n",
      "Iter time is   0.00027204 seconds.\n",
      "Full time is   0.00643969 seconds.\n",
      "\n"
     ]
    },
    {
     "data": {
      "text/plain": [
       "    f: <function <lambda> at 0x7f752c0ce560>\n",
       "value: 1.904510910128264\n",
       "    m: [[0 0 1]\n",
       "        [1 0 0]\n",
       "        [0 1 0]\n",
       "        [0 0 1]\n",
       "        [0 1 0]\n",
       "        [0 0 1]\n",
       "        [1 0 0]\n",
       "        [0 1 0]\n",
       "        [0 0 1]\n",
       "        [0 0 1]\n",
       "        [0 1 0]\n",
       "        [0 1 0]]\n",
       "iters: 8/100\n",
       "ended: True"
      ]
     },
     "execution_count": 6,
     "metadata": {},
     "output_type": "execute_result"
    }
   ],
   "source": [
    "MinimizeByLabels(f, m0=m, print_iters=True)"
   ]
  },
  {
   "cell_type": "code",
   "execution_count": null,
   "id": "f0e53601",
   "metadata": {},
   "outputs": [],
   "source": []
  }
 ],
 "metadata": {
  "kernelspec": {
   "display_name": "Python 3 (ipykernel)",
   "language": "python",
   "name": "python3"
  },
  "language_info": {
   "codemirror_mode": {
    "name": "ipython",
    "version": 3
   },
   "file_extension": ".py",
   "mimetype": "text/x-python",
   "name": "python",
   "nbconvert_exporter": "python",
   "pygments_lexer": "ipython3",
   "version": "3.10.4"
  }
 },
 "nbformat": 4,
 "nbformat_minor": 5
}
